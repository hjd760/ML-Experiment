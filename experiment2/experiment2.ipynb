{
 "cells": [
  {
   "cell_type": "code",
   "execution_count": 279,
   "metadata": {},
   "outputs": [],
   "source": [
    "import numpy as np\n",
    "import pandas as pd\n",
    "import sklearn.datasets as sd\n",
    "import sklearn.model_selection as sms\n",
    "import matplotlib.pyplot as plt\n",
    "import random"
   ]
  },
  {
   "cell_type": "code",
   "execution_count": 280,
   "metadata": {},
   "outputs": [],
   "source": [
    "# 读取实验训练集和验证集\n",
    "X, y = sd.load_svmlight_file('a9a.txt',n_features = 123)"
   ]
  },
  {
   "cell_type": "code",
   "execution_count": 281,
   "metadata": {},
   "outputs": [],
   "source": [
    "# 将数据集切分为训练集和验证集\n",
    "X_train, X_valid, y_train, y_valid = sms.train_test_split(X, y)"
   ]
  },
  {
   "cell_type": "code",
   "execution_count": 282,
   "metadata": {},
   "outputs": [],
   "source": [
    "# 将稀疏矩阵转为ndarray类型\n",
    "X_train = X_train.toarray()\n",
    "X_valid = X_valid.toarray()\n",
    "y_train = y_train.reshape(len(y_train),1)\n",
    "y_valid = y_valid.reshape(len(y_valid),1)"
   ]
  },
  {
   "cell_type": "code",
   "execution_count": 283,
   "metadata": {},
   "outputs": [],
   "source": [
    "X_train = np.concatenate((np.ones((X_train.shape[0],1)), X_train), axis = 1)\n",
    "X_valid = np.concatenate((np.ones((X_valid.shape[0],1)), X_valid), axis = 1)"
   ]
  },
  {
   "cell_type": "code",
   "execution_count": 284,
   "metadata": {},
   "outputs": [
    {
     "data": {
      "text/plain": [
       "((12210, 124), (4071, 124), (12210, 1), (4071, 1))"
      ]
     },
     "execution_count": 284,
     "metadata": {},
     "output_type": "execute_result"
    }
   ],
   "source": [
    "X_train.shape, X_valid.shape, y_train.shape, y_valid.shape"
   ]
  },
  {
   "cell_type": "code",
   "execution_count": 285,
   "metadata": {},
   "outputs": [],
   "source": [
    "def sigmoid(z):\n",
    "    return 1 / (1 + np.exp(-z))"
   ]
  },
  {
   "cell_type": "code",
   "execution_count": 286,
   "metadata": {},
   "outputs": [],
   "source": [
    "def sigmoid_gradient(z):\n",
    "    return sigmoid(z) * (1 - sigmoid(z))"
   ]
  },
  {
   "cell_type": "code",
   "execution_count": 287,
   "metadata": {},
   "outputs": [],
   "source": [
    "def logistic_loss(X, y ,theta):\n",
    "    hx = sigmoid(X.dot(theta))\n",
    "    cost = np.multiply((1+y), np.log(1+hx)) + np.multiply((1-y), np.log(1-hx))\n",
    "    return -cost.mean()/2"
   ]
  },
  {
   "cell_type": "code",
   "execution_count": 288,
   "metadata": {},
   "outputs": [],
   "source": [
    "def logistic_gradient(X, y, theta):\n",
    "    return X.T.dot(sigmoid(X.dot(theta)) - y)"
   ]
  },
  {
   "cell_type": "code",
   "execution_count": 289,
   "metadata": {},
   "outputs": [
    {
     "data": {
      "text/plain": [
       "0.4383339126231651"
      ]
     },
     "execution_count": 289,
     "metadata": {},
     "output_type": "execute_result"
    }
   ],
   "source": [
    "theta = np.zeros((X_train.shape[1],1))\n",
    "logistic_loss(X_train, y_train, theta)"
   ]
  },
  {
   "cell_type": "code",
   "execution_count": 290,
   "metadata": {},
   "outputs": [],
   "source": [
    "def logistic_score(X, y, theta):\n",
    "    hx = sigmoid(X.dot(theta))\n",
    "    hx[hx>=0.5] = 1\n",
    "    hx[hx<0.5] = -1\n",
    "    hx = (hx==y)\n",
    "    return np.mean(hx)"
   ]
  },
  {
   "cell_type": "code",
   "execution_count": 291,
   "metadata": {},
   "outputs": [],
   "source": [
    "def logistic_descent(X, y, theta, alpha, num_iters, batch_size, X_valid, y_valid):\n",
    "    X_sample = np.matrix(random.sample(X.tolist(), batch_size))\n",
    "    y_sample = np.matrix(random.sample(y.tolist(), batch_size))\n",
    "    loss_train = np.zeros((num_iters,1))\n",
    "    loss_valid = np.zeros((num_iters,1))\n",
    "    scores = np.zeros((num_iters,1))\n",
    "    for i in range(num_iters):\n",
    "        grad = logistic_gradient(X_sample, y_sample, theta)\n",
    "        theta = theta - alpha * grad\n",
    "        loss_train[i] = logistic_loss(X, y, theta)\n",
    "        loss_valid[i] = logistic_loss(X_valid, y_valid, theta)\n",
    "        scores[i] = logistic_score(X, y, theta)\n",
    "    return theta, loss_train, loss_valid, scores"
   ]
  },
  {
   "cell_type": "code",
   "execution_count": 292,
   "metadata": {},
   "outputs": [
    {
     "data": {
      "text/plain": [
       "(0.4243570106310033,\n",
       " 0.006336116789905614,\n",
       " 0.40602853343090334,\n",
       " 0.006091128204249764)"
      ]
     },
     "execution_count": 292,
     "metadata": {},
     "output_type": "execute_result"
    }
   ],
   "source": [
    "theta = np.zeros((X_train.shape[1],1))\n",
    "alpha = 0.0001\n",
    "num_iters = 200\n",
    "opt_theta, loss_train, loss_valid, scores = logistic_descent(X_train, y_train, theta, alpha, num_iters, 64, X_valid, y_valid)\n",
    "loss_train.max(), loss_train.min(), loss_valid.max(), loss_valid.min()"
   ]
  },
  {
   "cell_type": "code",
   "execution_count": 293,
   "metadata": {},
   "outputs": [
    {
     "data": {
      "text/plain": [
       "0.7509211495946941"
      ]
     },
     "execution_count": 293,
     "metadata": {},
     "output_type": "execute_result"
    }
   ],
   "source": [
    "logistic_score(X_valid, y_valid, opt_theta)"
   ]
  },
  {
   "cell_type": "code",
   "execution_count": 294,
   "metadata": {},
   "outputs": [
    {
     "data": {
      "image/png": "[encoded data removed]",
      "text/plain": [
       "<Figure size 864x576 with 1 Axes>"
      ]
     },
     "metadata": {
      "needs_background": "light"
     },
     "output_type": "display_data"
    }
   ],
   "source": [
    "iteration = np.arange(0, num_iters, step = 1)\n",
    "fig, ax = plt.subplots(figsize = (12,8))\n",
    "ax.set_title('Train vs Valid')\n",
    "ax.set_xlabel('iteration')\n",
    "ax.set_ylabel('loss')\n",
    "plt.plot(iteration, loss_train, 'b', label='Training Set Loss')\n",
    "plt.plot(iteration, loss_valid, 'r', label='Validation Set Loss')\n",
    "# plt.plot(iteration, scores, 'g', label='Score on Validation Set')\n",
    "plt.legend()\n",
    "plt.show()"
   ]
  },
  {
   "cell_type": "code",
   "execution_count": 295,
   "metadata": {},
   "outputs": [],
   "source": [
    "def hinge_loss(X, y, theta, C):\n",
    "    loss = np.maximum(0, 1 - np.multiply(y, X.dot(theta))).mean()\n",
    "    reg = np.multiply(theta,theta).sum() / 2\n",
    "    return C * loss + reg"
   ]
  },
  {
   "cell_type": "code",
   "execution_count": 296,
   "metadata": {},
   "outputs": [
    {
     "data": {
      "text/plain": [
       "23.736313620311282"
      ]
     },
     "execution_count": 296,
     "metadata": {},
     "output_type": "execute_result"
    }
   ],
   "source": [
    "theta = np.random.random((X_train.shape[1],1))\n",
    "C = 0.4\n",
    "hinge_loss(X_train, y_train, theta, C)"
   ]
  },
  {
   "cell_type": "code",
   "execution_count": 297,
   "metadata": {},
   "outputs": [],
   "source": [
    "def hinge_gradient(X, y, theta, C):\n",
    "    error = np.maximum(0, 1 - np.multiply(y, X.dot(theta)))\n",
    "    index = np.where(error==0)\n",
    "    x = X.copy()\n",
    "    x[index,:] = 0\n",
    "    grad = theta - C * x.T.dot(y) / len(y)\n",
    "    grad[-1] = grad[-1] - theta[-1]\n",
    "    return grad"
   ]
  },
  {
   "cell_type": "code",
   "execution_count": 298,
   "metadata": {},
   "outputs": [],
   "source": [
    "def svm_descent(X, y, theta, alpha, num_iters, batch_size, X_valid, y_valid, C):\n",
    "    X_sample = np.matrix(random.sample(X.tolist(), batch_size))\n",
    "    y_sample = np.matrix(random.sample(y.tolist(), batch_size))\n",
    "    loss_train = np.zeros((num_iters,1))\n",
    "    loss_valid = np.zeros((num_iters,1))\n",
    "    for i in range(num_iters):\n",
    "        grad = hinge_gradient(X_sample, y_sample, theta, C)\n",
    "        theta = theta - alpha * grad\n",
    "        loss_train[i] = hinge_loss(X, y, theta, C)\n",
    "        loss_valid[i] = hinge_loss(X_valid, y_valid, theta, C)\n",
    "    return theta, loss_train, loss_valid"
   ]
  },
  {
   "cell_type": "code",
   "execution_count": 299,
   "metadata": {},
   "outputs": [],
   "source": [
    "def svm_score(X, y, theta):\n",
    "    hx = X.dot(theta)\n",
    "    hx[hx>=5] = 1\n",
    "    hx[hx<5] = -1\n",
    "    hx = (hx==y)\n",
    "    return np.mean(hx)"
   ]
  },
  {
   "cell_type": "code",
   "execution_count": 303,
   "metadata": {},
   "outputs": [
    {
     "data": {
      "text/plain": [
       "(22.584937844110428,\n",
       " 0.2744215036864591,\n",
       " 22.533763151281054,\n",
       " 0.2871998214057941)"
      ]
     },
     "execution_count": 303,
     "metadata": {},
     "output_type": "execute_result"
    }
   ],
   "source": [
    "theta = np.random.random((X_train.shape[1],1))\n",
    "alpha = 0.01\n",
    "num_iters = 500\n",
    "opt_theta, loss_train, loss_valid = svm_descent(X_train, y_train, theta, alpha, num_iters, 64, X_valid, y_valid, C)\n",
    "loss_train.max(), loss_train.min(), loss_valid.max(), loss_valid.min()"
   ]
  },
  {
   "cell_type": "code",
   "execution_count": 304,
   "metadata": {},
   "outputs": [
    {
     "data": {
      "text/plain": [
       "0.7509211495946941"
      ]
     },
     "execution_count": 304,
     "metadata": {},
     "output_type": "execute_result"
    }
   ],
   "source": [
    "svm_score(X_valid, y_valid, opt_theta)"
   ]
  },
  {
   "cell_type": "code",
   "execution_count": 305,
   "metadata": {},
   "outputs": [
    {
     "data": {
      "image/png": "[encoded data removed]",
      "text/plain": [
       "<Figure size 864x576 with 1 Axes>"
      ]
     },
     "metadata": {
      "needs_background": "light"
     },
     "output_type": "display_data"
    }
   ],
   "source": [
    "iteration = np.arange(0, num_iters, step = 1)\n",
    "fig, ax = plt.subplots(figsize = (12,8))\n",
    "ax.set_title('Train vs Valid')\n",
    "ax.set_xlabel('iteration')\n",
    "ax.set_ylabel('loss')\n",
    "plt.plot(iteration, loss_train, 'b', label='Training Set Loss')\n",
    "plt.plot(iteration, loss_valid, 'r', label='Validation Set Loss')\n",
    "plt.legend()\n",
    "plt.show()"
   ]
  },
  {
   "cell_type": "code",
   "execution_count": null,
   "metadata": {},
   "outputs": [],
   "source": []
  }
 ],
 "metadata": {
  "kernelspec": {
   "display_name": "Python 3",
   "language": "python",
   "name": "python3"
  },
  "language_info": {
   "codemirror_mode": {
    "name": "ipython",
    "version": 3
   },
   "file_extension": ".py",
   "mimetype": "text/x-python",
   "name": "python",
   "nbconvert_exporter": "python",
   "pygments_lexer": "ipython3",
   "version": "3.7.3"
  }
 },
 "nbformat": 4,
 "nbformat_minor": 2
}
