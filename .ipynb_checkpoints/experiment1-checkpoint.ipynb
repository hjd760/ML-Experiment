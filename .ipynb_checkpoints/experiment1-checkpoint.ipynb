{
 "cells": [
  {
   "cell_type": "code",
   "execution_count": 289,
   "metadata": {},
   "outputs": [],
   "source": [
    "import numpy as np\n",
    "import pandas as pd\n",
    "import sklearn.datasets as sd\n",
    "import sklearn.model_selection as sms\n",
    "import matplotlib.pyplot as plt\n",
    "import random"
   ]
  },
  {
   "cell_type": "code",
   "execution_count": 261,
   "metadata": {},
   "outputs": [],
   "source": [
    "# 读取实验数据\n",
    "X, y = sd.load_svmlight_file('housing_scale.txt',n_features = 13)"
   ]
  },
  {
   "cell_type": "code",
   "execution_count": 262,
   "metadata": {},
   "outputs": [],
   "source": [
    "# 将数据集切分为训练集和验证集\n",
    "X_train, X_valid, y_train, y_valid = sms.train_test_split(X, y)"
   ]
  },
  {
   "cell_type": "code",
   "execution_count": 263,
   "metadata": {},
   "outputs": [],
   "source": [
    "# 将稀疏矩阵转为ndarray类型\n",
    "X_train = X_train.toarray()\n",
    "X_valid = X_valid.toarray()\n",
    "y_train = y_train.reshape(len(y_train),1)\n",
    "y_valid = y_valid.reshape(len(y_valid),1)"
   ]
  },
  {
   "cell_type": "code",
   "execution_count": 264,
   "metadata": {},
   "outputs": [
    {
     "data": {
      "text/plain": [
       "((379, 13), (127, 13), (379, 1), (127, 1))"
      ]
     },
     "execution_count": 264,
     "metadata": {},
     "output_type": "execute_result"
    }
   ],
   "source": [
    "X_train.shape, X_valid.shape, y_train.shape, y_valid.shape"
   ]
  },
  {
   "cell_type": "code",
   "execution_count": 265,
   "metadata": {},
   "outputs": [],
   "source": [
    "# 线性模型参数初始化，可以考虑全零初始化，随机初始化或者正态分布初始化。\n",
    "theta = np.zeros((14, 1))"
   ]
  },
  {
   "cell_type": "code",
   "execution_count": 266,
   "metadata": {},
   "outputs": [],
   "source": [
    "# 选取一个Loss函数，计算训练集的Loss函数值，记为loss\n",
    "def compute_loss(X, y, theta):\n",
    "    hx = X.dot(theta)\n",
    "    error = np.power((hx - y), 2).mean() / 2\n",
    "#     reg = np.power(theta[1:theta.shape[0]],2).mean()\n",
    "    return error"
   ]
  },
  {
   "cell_type": "code",
   "execution_count": 267,
   "metadata": {},
   "outputs": [],
   "source": [
    "X_train = np.concatenate((np.ones((X_train.shape[0],1)), X_train), axis = 1)\n",
    "X_valid = np.concatenate((np.ones((X_valid.shape[0],1)), X_valid), axis = 1)"
   ]
  },
  {
   "cell_type": "code",
   "execution_count": 268,
   "metadata": {},
   "outputs": [
    {
     "data": {
      "text/plain": [
       "((379, 14), (127, 14))"
      ]
     },
     "execution_count": 268,
     "metadata": {},
     "output_type": "execute_result"
    }
   ],
   "source": [
    "X_train.shape, X_valid.shape"
   ]
  },
  {
   "cell_type": "code",
   "execution_count": 269,
   "metadata": {},
   "outputs": [
    {
     "data": {
      "text/plain": [
       "291.42604221635884"
      ]
     },
     "execution_count": 269,
     "metadata": {},
     "output_type": "execute_result"
    }
   ],
   "source": [
    "loss = compute_loss(X_train, y_train, theta)\n",
    "loss"
   ]
  },
  {
   "cell_type": "code",
   "execution_count": 270,
   "metadata": {},
   "outputs": [],
   "source": [
    "# 闭式解函数\n",
    "def normal_equation(X, y):\n",
    "    return (np.linalg.inv(X.T.dot(X))).dot(X.T).dot(y)"
   ]
  },
  {
   "cell_type": "code",
   "execution_count": 271,
   "metadata": {},
   "outputs": [
    {
     "data": {
      "text/plain": [
       "array([[ 10.67521361],\n",
       "       [ -4.35266767],\n",
       "       [  2.30464958],\n",
       "       [ -0.04596842],\n",
       "       [  1.73332473],\n",
       "       [ -4.26130639],\n",
       "       [  8.18557508],\n",
       "       [  0.87098733],\n",
       "       [ -8.26877419],\n",
       "       [  3.40273532],\n",
       "       [ -2.74208263],\n",
       "       [ -4.55541174],\n",
       "       [  2.16021612],\n",
       "       [-11.65554071]])"
      ]
     },
     "execution_count": 271,
     "metadata": {},
     "output_type": "execute_result"
    }
   ],
   "source": [
    "theta = normal_equation(X_train, y_train)\n",
    "theta"
   ]
  },
  {
   "cell_type": "code",
   "execution_count": 272,
   "metadata": {},
   "outputs": [
    {
     "data": {
      "text/plain": [
       "10.619203802989858"
      ]
     },
     "execution_count": 272,
     "metadata": {},
     "output_type": "execute_result"
    }
   ],
   "source": [
    "loss_train = compute_loss(X_train, y_train, theta)\n",
    "loss_train"
   ]
  },
  {
   "cell_type": "code",
   "execution_count": 273,
   "metadata": {},
   "outputs": [
    {
     "data": {
      "text/plain": [
       "12.74682419002567"
      ]
     },
     "execution_count": 273,
     "metadata": {},
     "output_type": "execute_result"
    }
   ],
   "source": [
    "loss_valid = compute_loss(X_valid, y_valid, theta)\n",
    "loss_valid"
   ]
  },
  {
   "cell_type": "code",
   "execution_count": 274,
   "metadata": {},
   "outputs": [],
   "source": [
    "def gradient(X, y, theta):\n",
    "    return X.T.dot(X.dot(theta) - y)"
   ]
  },
  {
   "cell_type": "code",
   "execution_count": 275,
   "metadata": {},
   "outputs": [],
   "source": [
    "def descent(X, y, theta, alpha, iters, X_valid, y_valid):\n",
    "    m = y.size\n",
    "    loss_train = np.zeros((iters,1))\n",
    "    loss_valid = np.zeros((iters,1))\n",
    "    for i in range(iters):\n",
    "        grad = gradient(X, y, theta)\n",
    "        theta = theta - alpha * grad\n",
    "        loss_train[i] = compute_loss(X, y, theta)\n",
    "        loss_valid[i] = compute_loss(X_valid, y_valid, theta)\n",
    "    return theta, loss_train, loss_valid"
   ]
  },
  {
   "cell_type": "code",
   "execution_count": 307,
   "metadata": {},
   "outputs": [
    {
     "data": {
      "text/plain": [
       "(11.073616618342303, 13.429493577457897)"
      ]
     },
     "execution_count": 307,
     "metadata": {},
     "output_type": "execute_result"
    }
   ],
   "source": [
    "theta = np.zeros((14,1))\n",
    "alpha = 0.0001\n",
    "iters = 500\n",
    "opt_theta, loss_train, loss_valid = descent(X_train, y_train, theta, alpha, iters, X_valid, y_valid)\n",
    "loss_train.min(), loss_valid.min()"
   ]
  },
  {
   "cell_type": "code",
   "execution_count": 308,
   "metadata": {},
   "outputs": [
    {
     "data": {
      "image/png": "[encoded data removed]",
      "text/plain": [
       "<Figure size 864x576 with 1 Axes>"
      ]
     },
     "metadata": {
      "needs_background": "light"
     },
     "output_type": "display_data"
    }
   ],
   "source": [
    "iteration = np.arange(0, iters, step = 1)\n",
    "fig, ax = plt.subplots(figsize = (12,8))\n",
    "ax.set_title('Train vs Valid')\n",
    "ax.set_xlabel('iteration')\n",
    "ax.set_ylabel('loss')\n",
    "ax.plot(iteration, loss_train,'r')\n",
    "ax.plot(iteration, loss_valid,'b')\n",
    "plt.show()"
   ]
  },
  {
   "cell_type": "code",
   "execution_count": 278,
   "metadata": {},
   "outputs": [],
   "source": [
    "# 这是随机梯度下降的梯度函数\n",
    "def stochastic_gradient(X, y, theta):\n",
    "    return X.T.dot(X.dot(theta) - y)"
   ]
  },
  {
   "cell_type": "code",
   "execution_count": 296,
   "metadata": {},
   "outputs": [],
   "source": [
    "# 随机梯度下降的执行函数 batch_size = 1\n",
    "def stochastic_descent(X, y, theta, alpha, iters, X_valid, y_valid):\n",
    "    loss_train = np.zeros((iters,1))\n",
    "    loss_valid = np.zeros((iters,1))\n",
    "    for i in range(iters):\n",
    "        X_sample = np.matrix(random.sample(X.tolist(), 1))\n",
    "        y_sample = np.matrix(random.sample(y.tolist(), 1))\n",
    "        grad = gradient(X_sample, y_sample, theta)\n",
    "        theta = theta - alpha * grad\n",
    "        loss_train[i] = compute_loss(X, y, theta)\n",
    "        loss_valid[i] = compute_loss(X_valid, y_valid, theta)\n",
    "    return theta, loss_train, loss_valid"
   ]
  },
  {
   "cell_type": "code",
   "execution_count": 303,
   "metadata": {},
   "outputs": [
    {
     "data": {
      "text/plain": [
       "(45.99735099382702, 45.19145534928236)"
      ]
     },
     "execution_count": 303,
     "metadata": {},
     "output_type": "execute_result"
    }
   ],
   "source": [
    "theta = np.zeros((14,1))\n",
    "alpha = 0.0001\n",
    "iters = 10000\n",
    "opt_theta, sgd_loss_train, sgd_loss_valid = stochastic_descent(X_train, y_train, theta, alpha, iters, X_valid, y_valid)\n",
    "sgd_loss_train.min(), sgd_loss_valid.min()"
   ]
  },
  {
   "cell_type": "code",
   "execution_count": 304,
   "metadata": {},
   "outputs": [
    {
     "data": {
      "image/png": "[encoded data removed]",
      "text/plain": [
       "<Figure size 864x576 with 1 Axes>"
      ]
     },
     "metadata": {
      "needs_background": "light"
     },
     "output_type": "display_data"
    }
   ],
   "source": [
    "iteration = np.arange(0, iters, step = 1)\n",
    "fig, ax = plt.subplots(figsize = (12,8))\n",
    "ax.set_title('Train vs Valid')\n",
    "ax.set_xlabel('iteration')\n",
    "ax.set_ylabel('loss')\n",
    "ax.plot(iteration, sgd_loss_train,'r')\n",
    "ax.plot(iteration, sgd_loss_valid,'b')\n",
    "plt.show()"
   ]
  },
  {
   "cell_type": "code",
   "execution_count": null,
   "metadata": {},
   "outputs": [],
   "source": []
  }
 ],
 "metadata": {
  "kernelspec": {
   "display_name": "Python 3",
   "language": "python",
   "name": "python3"
  },
  "language_info": {
   "codemirror_mode": {
    "name": "ipython",
    "version": 3
   },
   "file_extension": ".py",
   "mimetype": "text/x-python",
   "name": "python",
   "nbconvert_exporter": "python",
   "pygments_lexer": "ipython3",
   "version": "3.7.3"
  }
 },
 "nbformat": 4,
 "nbformat_minor": 2
}
