{
 "cells": [
  {
   "cell_type": "code",
   "execution_count": 1,
   "metadata": {},
   "outputs": [],
   "source": [
    "import numpy as np\n",
    "import matplotlib.pyplot as plt\n",
    "from sklearn import preprocessing\n",
    "from sklearn.model_selection import train_test_split\n",
    "from sklearn.datasets import load_svmlight_file"
   ]
  },
  {
   "cell_type": "markdown",
   "metadata": {},
   "source": [
    "## Load the training set and validation set."
   ]
  },
  {
   "cell_type": "code",
   "execution_count": 2,
   "metadata": {},
   "outputs": [
    {
     "data": {
      "text/plain": [
       "array([[-1.],\n",
       "       [-1.],\n",
       "       [-1.],\n",
       "       ...,\n",
       "       [-1.],\n",
       "       [-1.],\n",
       "       [ 1.]])"
      ]
     },
     "execution_count": 2,
     "metadata": {},
     "output_type": "execute_result"
    }
   ],
   "source": [
    "N_FEATURES = 123\n",
    "\n",
    "X_train, y_train = load_svmlight_file('a9a', n_features=N_FEATURES)\n",
    "X_val, y_val = load_svmlight_file('a9a.t', n_features=N_FEATURES)\n",
    "\n",
    "y_train = y_train.reshape(y_train.shape[0], 1)\n",
    "y_val = y_val.reshape(y_val.shape[0], 1)\n",
    "y_train\n"
   ]
  },
  {
   "cell_type": "markdown",
   "metadata": {},
   "source": [
    "## Parameter"
   ]
  },
  {
   "cell_type": "code",
   "execution_count": 3,
   "metadata": {},
   "outputs": [],
   "source": [
    "EPOCH_NUM = 250\n",
    "BATCH_SIZE = 512\n",
    "LR = 0.006\n",
    "PENALTY_FACTOR = 0.6\n",
    "THRESHOLD = 0\n",
    "C = 0.4"
   ]
  },
  {
   "cell_type": "markdown",
   "metadata": {},
   "source": [
    "## hinge loss"
   ]
  },
  {
   "cell_type": "code",
   "execution_count": 4,
   "metadata": {},
   "outputs": [],
   "source": [
    "#logic function\n",
    "def sigmoid(x):\n",
    "    return 1 / (1 + np.exp(-x))\n",
    "\n",
    "#for output is y=±1，y^_loss is： \n",
    "# ℓ (y)=max(0,1−y⋅y^)\n",
    "def loss(y_, y):\n",
    "    l = np.maximum(0, 1-y*y_)\n",
    "    return C * l.sum() / y.shape[0]"
   ]
  },
  {
   "cell_type": "markdown",
   "metadata": {},
   "source": [
    "## Initialize SVM model parameter with normal distribution "
   ]
  },
  {
   "cell_type": "code",
   "execution_count": 5,
   "metadata": {},
   "outputs": [
    {
     "name": "stdout",
     "output_type": "stream",
     "text": [
      "loss_train: 5.3166\tloss_val: 5.3495\n"
     ]
    }
   ],
   "source": [
    "w = np.random.normal(1, 1, size=(N_FEATURES, 1))\n",
    "\n",
    "loss_train = loss(X_train.dot(w), y_train)\n",
    "loss_val = loss(X_val.dot(w), y_val)\n",
    "print('loss_train: {:.4f}\\tloss_val: {:.4f}'.format(loss_train, loss_val))"
   ]
  },
  {
   "cell_type": "markdown",
   "metadata": {},
   "source": [
    "## MSGD"
   ]
  },
  {
   "cell_type": "code",
   "execution_count": 6,
   "metadata": {},
   "outputs": [
    {
     "name": "stdout",
     "output_type": "stream",
     "text": [
      "Epoch: #1\tLoss_train: 5.097484\tLoss_val: 5.129169\tAcc_train: 0.2408\tAcc_val: 0.2362\n",
      "Epoch: #16\tLoss_train: 1.824295\tLoss_val: 1.837047\tAcc_train: 0.2684\tAcc_val: 0.2644\n",
      "Epoch: #31\tLoss_train: 0.441974\tLoss_val: 0.440392\tAcc_train: 0.6600\tAcc_val: 0.6637\n",
      "Epoch: #46\tLoss_train: 0.371622\tLoss_val: 0.369286\tAcc_train: 0.7181\tAcc_val: 0.7167\n",
      "Epoch: #61\tLoss_train: 0.346812\tLoss_val: 0.344514\tAcc_train: 0.7345\tAcc_val: 0.7323\n",
      "Epoch: #76\tLoss_train: 0.328144\tLoss_val: 0.325918\tAcc_train: 0.7449\tAcc_val: 0.7417\n",
      "Epoch: #91\tLoss_train: 0.312968\tLoss_val: 0.310648\tAcc_train: 0.7520\tAcc_val: 0.7504\n",
      "Epoch: #106\tLoss_train: 0.300388\tLoss_val: 0.297956\tAcc_train: 0.7581\tAcc_val: 0.7582\n",
      "Epoch: #121\tLoss_train: 0.289767\tLoss_val: 0.287154\tAcc_train: 0.7635\tAcc_val: 0.7633\n",
      "Epoch: #136\tLoss_train: 0.280571\tLoss_val: 0.277742\tAcc_train: 0.7685\tAcc_val: 0.7686\n",
      "Epoch: #151\tLoss_train: 0.272364\tLoss_val: 0.269426\tAcc_train: 0.7725\tAcc_val: 0.7732\n",
      "Epoch: #166\tLoss_train: 0.264992\tLoss_val: 0.261965\tAcc_train: 0.7760\tAcc_val: 0.7771\n",
      "Epoch: #181\tLoss_train: 0.258246\tLoss_val: 0.255112\tAcc_train: 0.7796\tAcc_val: 0.7809\n",
      "Epoch: #196\tLoss_train: 0.252049\tLoss_val: 0.248790\tAcc_train: 0.7818\tAcc_val: 0.7845\n",
      "Epoch: #211\tLoss_train: 0.246364\tLoss_val: 0.242965\tAcc_train: 0.7851\tAcc_val: 0.7867\n",
      "Epoch: #226\tLoss_train: 0.241018\tLoss_val: 0.237542\tAcc_train: 0.7881\tAcc_val: 0.7891\n",
      "Epoch: #241\tLoss_train: 0.236025\tLoss_val: 0.232499\tAcc_train: 0.7909\tAcc_val: 0.7917\n"
     ]
    }
   ],
   "source": [
    "losses_train, losses_val = [], []\n",
    "accs_train, accs_val = [], []\n",
    "\n",
    "for epoch in range(EPOCH_NUM):\n",
    "    for step in range(X_train.shape[0] // BATCH_SIZE):\n",
    "        batch_idx = np.random.choice(X_train.shape[0], BATCH_SIZE)\n",
    "        X, y = X_train[batch_idx], y_train[batch_idx]\n",
    "# gradient descent      \n",
    "        X_ = (1 - y * X.dot(w) < THRESHOLD)\n",
    "        y_ = y.copy()\n",
    "        y_[X_] = 0\n",
    "        \n",
    "        grad = (-1)*(X.T.dot(y_))*C + PENALTY_FACTOR*w\n",
    "        grad = -grad / X.shape[0]\n",
    "        \n",
    "        w += LR * grad\n",
    "        \n",
    "    output_train, output_val = X_train.dot(w), X_val.dot(w)\n",
    "    \n",
    "    losses_train.append(loss(output_train, y_train))\n",
    "    losses_val.append(loss(output_val, y_val))\n",
    "    \n",
    "# Select the appropriate threshold, mark the sample whose predict scores greater than the threshold as positive, on the contrary as negative. \n",
    "\n",
    "    output_train[output_train > THRESHOLD] = 1\n",
    "    output_train[output_train <= THRESHOLD] = -1\n",
    "    \n",
    "    output_val[output_val > THRESHOLD] = 1\n",
    "    output_val[output_val <= THRESHOLD] = -1\n",
    "    \n",
    "    accs_train.append(np.count_nonzero(output_train == y_train)/X_train.shape[0])\n",
    "    accs_val.append(np.count_nonzero(output_val == y_val)/X_val.shape[0])\n",
    "    \n",
    "    if epoch % 15 == 0:\n",
    "        print('Epoch: #{}\\tLoss_train: {:.6f}\\tLoss_val: {:.6f}\\tAcc_train: {:.4f}\\tAcc_val: {:.4f}'.format(\n",
    "            epoch+1, losses_train[-1], losses_val[-1], accs_train[-1], accs_val[-1])\n",
    "        )"
   ]
  },
  {
   "cell_type": "markdown",
   "metadata": {},
   "source": [
    "## draw graph of Lvalidation with the number of iterations."
   ]
  },
  {
   "cell_type": "code",
   "execution_count": 12,
   "metadata": {},
   "outputs": [
    {
     "data": {
      "image/png": "[encoded data removed]",
      "text/plain": [
       "<Figure size 1008x432 with 1 Axes>"
      ]
     },
     "metadata": {
      "needs_background": "light"
     },
     "output_type": "display_data"
    }
   ],
   "source": [
    "plt.figure(figsize=[14,6])\n",
    "plt.title('Ltrain & Lvalidation')\n",
    "plt.plot(losses_train, '--', c='b',linewidth=2, label='train')\n",
    "plt.xlabel('epoch')\n",
    "plt.ylabel('loss')\n",
    "plt.plot(losses_val, c='r', linewidth=2, label='valid')\n",
    "plt.legend()\n",
    "plt.savefig('linear-classification-losses.png')\n",
    "plt.show()"
   ]
  },
  {
   "cell_type": "code",
   "execution_count": 13,
   "metadata": {},
   "outputs": [
    {
     "data": {
      "image/png": "[encoded data removed]",
      "text/plain": [
       "<Figure size 1008x432 with 1 Axes>"
      ]
     },
     "metadata": {
      "needs_background": "light"
     },
     "output_type": "display_data"
    }
   ],
   "source": [
    "plt.figure(figsize=[14,6])\n",
    "plt.title('Accuracy_train & Accuracy_validation')\n",
    "plt.plot(accs_train, '--', c='b',linewidth=2, label='train')\n",
    "plt.xlabel('epoch')\n",
    "plt.ylabel('accuracy')\n",
    "plt.plot(accs_val, c='r', linewidth=2, label='valid')\n",
    "plt.legend()\n",
    "plt.savefig('linear-classification-accuracy.png')\n",
    "plt.show()"
   ]
  },
  {
   "cell_type": "code",
   "execution_count": null,
   "metadata": {},
   "outputs": [],
   "source": []
  }
 ],
 "metadata": {
  "kernelspec": {
   "display_name": "Python 3",
   "language": "python",
   "name": "python3"
  },
  "language_info": {
   "codemirror_mode": {
    "name": "ipython",
    "version": 3
   },
   "file_extension": ".py",
   "mimetype": "text/x-python",
   "name": "python",
   "nbconvert_exporter": "python",
   "pygments_lexer": "ipython3",
   "version": "3.7.3"
  }
 },
 "nbformat": 4,
 "nbformat_minor": 1
}
